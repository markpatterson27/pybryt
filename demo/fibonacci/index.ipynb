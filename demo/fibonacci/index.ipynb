{
 "cells": [
  {
   "cell_type": "markdown",
   "metadata": {},
   "source": [
    "# Fibonacci Runner\n",
    "\n",
    "This notebook demonstrates how to create a grading workflow using PyBryt."
   ]
  },
  {
   "cell_type": "code",
   "execution_count": 1,
   "metadata": {},
   "outputs": [],
   "source": [
    "import pybryt"
   ]
  },
  {
   "cell_type": "markdown",
   "metadata": {},
   "source": [
    "This demo has the following directory structure. This notebook, `index.ipynb`, runs PyBryt, `fibonacci.ipynb` is the assignment reference implementation, and `submissions` contains notebooks with student code in them."
   ]
  },
  {
   "cell_type": "code",
   "execution_count": 2,
   "metadata": {},
   "outputs": [
    {
     "name": "stdout",
     "output_type": "stream",
     "text": [
      ".\n",
      "├── fibonacci.ipynb\n",
      "├── fibonacci_dyn.pkl\n",
      "├── fibonacci_map.pkl\n",
      "├── fibonacci_no_recurse.pkl\n",
      "├── index.ipynb\n",
      "└── submissions\n",
      "    ├── subm01.ipynb\n",
      "    ├── subm02.ipynb\n",
      "    └── subm03.ipynb\n",
      "\n",
      "1 directory, 8 files\n"
     ]
    }
   ],
   "source": [
    "%%bash\n",
    "tree"
   ]
  },
  {
   "cell_type": "markdown",
   "metadata": {},
   "source": [
    "## Reference Implementations\n",
    "\n",
    "If you have marked up a reference implementation, like the one in [`fibonacci.ipynb`](fibonacci.ipynb), you can load this reference using `pybryt.ReferenceImplementation.compile`. Because references are relatively static and can take some time to execute, you can pickle the reference implementations to a file with `pybryt.ReferenceImplementation.dump`. Because this notebook has multiple references, each needs to be pickled separately."
   ]
  },
  {
   "cell_type": "code",
   "execution_count": 3,
   "metadata": {},
   "outputs": [
    {
     "name": "stdout",
     "output_type": "stream",
     "text": [
      "0 1 1 2 3 5 8 13 21 34 0 1 1 2 3 5 8 13 21 34 "
     ]
    }
   ],
   "source": [
    "refs = pybryt.ReferenceImplementation.compile(\"fibonacci.ipynb\")\n",
    "for ref in refs:\n",
    "    ref.dump()"
   ]
  },
  {
   "cell_type": "markdown",
   "metadata": {},
   "source": [
    "## Assessing Submissions\n",
    "\n",
    "To use PyBryt for grading multiple submissions, you can build a reproducible grading pipeline for an arbitrary number of submissions. To grab the submission notebook paths, the cell below uses `glob.glob`."
   ]
  },
  {
   "cell_type": "code",
   "execution_count": 4,
   "metadata": {},
   "outputs": [
    {
     "data": {
      "text/plain": [
       "['submissions/subm01.ipynb',\n",
       " 'submissions/subm02.ipynb',\n",
       " 'submissions/subm03.ipynb']"
      ]
     },
     "execution_count": 4,
     "metadata": {},
     "output_type": "execute_result"
    }
   ],
   "source": [
    "from glob import glob\n",
    "subms = sorted(glob(\"submissions/*.ipynb\"))\n",
    "subms"
   ]
  },
  {
   "cell_type": "markdown",
   "metadata": {},
   "source": [
    "To use PyBryt to grade a student's submission, a `pybryt.StudentImplementation` must be created from that submission. The constructor takes the path to the notebook as its only positional argument. It is in this step that the student's code is executed, so this cell will need to be rerun whenever changes are made to the submission notebooks."
   ]
  },
  {
   "cell_type": "code",
   "execution_count": 5,
   "metadata": {},
   "outputs": [
    {
     "name": "stdout",
     "output_type": "stream",
     "text": [
      "Executing submissions/subm01.ipynb\n",
      "Executing submissions/subm02.ipynb\n",
      "Executing submissions/subm03.ipynb\n",
      "CPU times: user 425 ms, sys: 176 ms, total: 601 ms\n",
      "Wall time: 2min 5s\n"
     ]
    },
    {
     "data": {
      "text/plain": [
       "[<pybryt.student.StudentImplementation at 0x7fc0025d2e90>,\n",
       " <pybryt.student.StudentImplementation at 0x7fbfa00d5290>,\n",
       " <pybryt.student.StudentImplementation at 0x7fbfa00ee8d0>]"
      ]
     },
     "execution_count": 5,
     "metadata": {},
     "output_type": "execute_result"
    }
   ],
   "source": [
    "%%time\n",
    "student_impls = []\n",
    "for subm in subms:\n",
    "    print(f\"Executing {subm}\")\n",
    "    student_impls.append(pybryt.StudentImplementation(subm))\n",
    "\n",
    "student_impls"
   ]
  },
  {
   "cell_type": "markdown",
   "metadata": {},
   "source": [
    "Once you have created the `pybryt.StudentImplementation` objects, use the `pybryt.StudentImplementation.check` method to run the check of a submission against a reference implementation. This method returns a single `pybryt.ReferenceResult` or a list of them, depending on the argument passed to `check`. In the cell below, the results are collected into a list."
   ]
  },
  {
   "cell_type": "code",
   "execution_count": 6,
   "metadata": {
    "scrolled": true
   },
   "outputs": [
    {
     "name": "stderr",
     "output_type": "stream",
     "text": [
      "/Users/chrispyles/opt/miniconda3/lib/python3.7/site-packages/pybryt/annotations/complexity/complexities.py:102: RuntimeWarning: divide by zero encountered in log2\n",
      "  return np.vstack((np.ones(len(n)), np.log2(n))).T\n",
      "/Users/chrispyles/opt/miniconda3/lib/python3.7/site-packages/pybryt/annotations/complexity/complexities.py:122: RuntimeWarning: divide by zero encountered in log2\n",
      "  return np.vstack((np.ones(len(n)), n * np.log2(n))).T\n",
      "/Users/chrispyles/opt/miniconda3/lib/python3.7/site-packages/pybryt/annotations/complexity/complexities.py:122: RuntimeWarning: invalid value encountered in multiply\n",
      "  return np.vstack((np.ones(len(n)), n * np.log2(n))).T\n"
     ]
    },
    {
     "data": {
      "text/plain": [
       "[[ReferenceResult([\n",
       "    AnnotationResult(satisfied=True, annotation=pybryt.Value),\n",
       "    AnnotationResult(satisfied=True, annotation=pybryt.Value),\n",
       "    AnnotationResult(satisfied=True, annotation=pybryt.Value),\n",
       "    AnnotationResult(satisfied=True, annotation=pybryt.Value),\n",
       "    AnnotationResult(satisfied=True, annotation=pybryt.Value),\n",
       "    AnnotationResult(satisfied=True, annotation=pybryt.Value),\n",
       "    AnnotationResult(satisfied=True, annotation=pybryt.Value),\n",
       "    AnnotationResult(satisfied=True, annotation=pybryt.Value),\n",
       "    AnnotationResult(satisfied=True, annotation=pybryt.TimeComplexity)\n",
       "  ]),\n",
       "  ReferenceResult([\n",
       "    AnnotationResult(satisfied=False, annotation=pybryt.Value),\n",
       "    AnnotationResult(satisfied=False, annotation=pybryt.Value),\n",
       "    AnnotationResult(satisfied=False, annotation=pybryt.Value),\n",
       "    AnnotationResult(satisfied=False, annotation=pybryt.Value),\n",
       "    AnnotationResult(satisfied=False, annotation=pybryt.Value),\n",
       "    AnnotationResult(satisfied=False, annotation=pybryt.Value),\n",
       "    AnnotationResult(satisfied=False, annotation=pybryt.Value),\n",
       "    AnnotationResult(satisfied=False, annotation=pybryt.Value),\n",
       "    AnnotationResult(satisfied=False, annotation=pybryt.Value),\n",
       "    AnnotationResult(satisfied=False, annotation=pybryt.Value),\n",
       "    AnnotationResult(satisfied=True, annotation=pybryt.TimeComplexity)\n",
       "  ]),\n",
       "  ReferenceResult([\n",
       "    AnnotationResult(satisfied=True, annotation=pybryt.OrAnnotation)\n",
       "  ])],\n",
       " [ReferenceResult([\n",
       "    AnnotationResult(satisfied=False, annotation=pybryt.Value),\n",
       "    AnnotationResult(satisfied=False, annotation=pybryt.Value),\n",
       "    AnnotationResult(satisfied=False, annotation=pybryt.Value),\n",
       "    AnnotationResult(satisfied=False, annotation=pybryt.Value),\n",
       "    AnnotationResult(satisfied=False, annotation=pybryt.Value),\n",
       "    AnnotationResult(satisfied=False, annotation=pybryt.Value),\n",
       "    AnnotationResult(satisfied=False, annotation=pybryt.Value),\n",
       "    AnnotationResult(satisfied=False, annotation=pybryt.Value),\n",
       "    AnnotationResult(satisfied=True, annotation=pybryt.TimeComplexity)\n",
       "  ]),\n",
       "  ReferenceResult([\n",
       "    AnnotationResult(satisfied=True, annotation=pybryt.Value),\n",
       "    AnnotationResult(satisfied=True, annotation=pybryt.Value),\n",
       "    AnnotationResult(satisfied=True, annotation=pybryt.Value),\n",
       "    AnnotationResult(satisfied=True, annotation=pybryt.Value),\n",
       "    AnnotationResult(satisfied=True, annotation=pybryt.Value),\n",
       "    AnnotationResult(satisfied=True, annotation=pybryt.Value),\n",
       "    AnnotationResult(satisfied=True, annotation=pybryt.Value),\n",
       "    AnnotationResult(satisfied=True, annotation=pybryt.Value),\n",
       "    AnnotationResult(satisfied=True, annotation=pybryt.Value),\n",
       "    AnnotationResult(satisfied=True, annotation=pybryt.Value),\n",
       "    AnnotationResult(satisfied=True, annotation=pybryt.TimeComplexity)\n",
       "  ]),\n",
       "  ReferenceResult([\n",
       "    AnnotationResult(satisfied=True, annotation=pybryt.OrAnnotation)\n",
       "  ])],\n",
       " [ReferenceResult([\n",
       "    AnnotationResult(satisfied=False, annotation=pybryt.Value),\n",
       "    AnnotationResult(satisfied=False, annotation=pybryt.Value),\n",
       "    AnnotationResult(satisfied=False, annotation=pybryt.Value),\n",
       "    AnnotationResult(satisfied=False, annotation=pybryt.Value),\n",
       "    AnnotationResult(satisfied=False, annotation=pybryt.Value),\n",
       "    AnnotationResult(satisfied=False, annotation=pybryt.Value),\n",
       "    AnnotationResult(satisfied=False, annotation=pybryt.Value),\n",
       "    AnnotationResult(satisfied=False, annotation=pybryt.Value),\n",
       "    AnnotationResult(satisfied=False, annotation=pybryt.TimeComplexity)\n",
       "  ]),\n",
       "  ReferenceResult([\n",
       "    AnnotationResult(satisfied=False, annotation=pybryt.Value),\n",
       "    AnnotationResult(satisfied=False, annotation=pybryt.Value),\n",
       "    AnnotationResult(satisfied=False, annotation=pybryt.Value),\n",
       "    AnnotationResult(satisfied=False, annotation=pybryt.Value),\n",
       "    AnnotationResult(satisfied=False, annotation=pybryt.Value),\n",
       "    AnnotationResult(satisfied=False, annotation=pybryt.Value),\n",
       "    AnnotationResult(satisfied=False, annotation=pybryt.Value),\n",
       "    AnnotationResult(satisfied=False, annotation=pybryt.Value),\n",
       "    AnnotationResult(satisfied=False, annotation=pybryt.Value),\n",
       "    AnnotationResult(satisfied=False, annotation=pybryt.Value),\n",
       "    AnnotationResult(satisfied=False, annotation=pybryt.TimeComplexity)\n",
       "  ]),\n",
       "  ReferenceResult([\n",
       "    AnnotationResult(satisfied=False, annotation=pybryt.OrAnnotation)\n",
       "  ])]]"
      ]
     },
     "execution_count": 6,
     "metadata": {},
     "output_type": "execute_result"
    }
   ],
   "source": [
    "results = []\n",
    "for si in student_impls:\n",
    "    results.append(si.check(refs))\n",
    "\n",
    "results"
   ]
  },
  {
   "cell_type": "markdown",
   "metadata": {},
   "source": [
    "To view the results in a concise manner, the `pybryt.ReferenceResult` class has some helpful instance variables. You can also get information about the memory footprint, such as the number of steps, from the `pybryt.StudentImplementation` class."
   ]
  },
  {
   "cell_type": "code",
   "execution_count": 9,
   "metadata": {},
   "outputs": [
    {
     "name": "stdout",
     "output_type": "stream",
     "text": [
      "SUBMISSION: submissions/subm01.ipynb\n",
      "  EXECUTION STEPS: 799\n",
      "\n",
      "  REFERENCE: fibonacci_map\n",
      "  SATISFIED: True\n",
      "  MESSAGES:\n",
      "    - Found hash map implementation\n",
      "    - Runs in linear time\n",
      "\n",
      "  REFERENCE: fibonacci_dyn\n",
      "  SATISFIED: False\n",
      "  MESSAGES:\n",
      "    - Runs in linear time\n",
      "\n",
      "  REFERENCE: fibonacci_no_recurse\n",
      "  SATISFIED: True\n",
      "  MESSAGES:\n",
      "    - Found hash map implementation\n",
      "\n",
      "\n",
      "SUBMISSION: submissions/subm02.ipynb\n",
      "  EXECUTION STEPS: 2231\n",
      "\n",
      "  REFERENCE: fibonacci_map\n",
      "  SATISFIED: False\n",
      "  MESSAGES:\n",
      "    - Runs in linear time\n",
      "\n",
      "  REFERENCE: fibonacci_dyn\n",
      "  SATISFIED: True\n",
      "  MESSAGES:\n",
      "    - Found dynamic programming implementation\n",
      "    - Runs in linear time\n",
      "\n",
      "  REFERENCE: fibonacci_no_recurse\n",
      "  SATISFIED: True\n",
      "  MESSAGES:\n",
      "    - Found dynamic programming implementation\n",
      "\n",
      "\n",
      "SUBMISSION: submissions/subm03.ipynb\n",
      "  EXECUTION STEPS: 31844335\n",
      "\n",
      "  REFERENCE: fibonacci_map\n",
      "  SATISFIED: False\n",
      "  MESSAGES:\n",
      "    - ERROR: Does not run in linear time\n",
      "\n",
      "  REFERENCE: fibonacci_dyn\n",
      "  SATISFIED: False\n",
      "  MESSAGES:\n",
      "    - ERROR: Does not run in linear time\n",
      "\n",
      "  REFERENCE: fibonacci_no_recurse\n",
      "  SATISFIED: False\n",
      "  MESSAGES:\n",
      "    - Did not find indicators of hash map or dynamic programming implementations. Make sure you're not using the naive algorithm!\n",
      "\n",
      "\n"
     ]
    }
   ],
   "source": [
    "from textwrap import indent\n",
    "for sp, si, res in zip(subms, student_impls, results):\n",
    "    print(f\"SUBMISSION: {sp}\")\n",
    "    print(f\"  EXECUTION STEPS: {si.footprint.num_steps}\\n\") # the number of steps in the execution\n",
    "    \n",
    "    # generate a summary report\n",
    "    report = indent(pybryt.generate_report(res), \"  \")\n",
    "    print(report)\n",
    "\n",
    "    print(\"\\n\")"
   ]
  },
  {
   "cell_type": "markdown",
   "metadata": {},
   "source": [
    " "
   ]
  }
 ],
 "metadata": {
  "@webio": {
   "lastCommId": null,
   "lastKernelId": null
  },
  "kernelspec": {
   "display_name": "Python 3 (ipykernel)",
   "language": "python",
   "name": "python3"
  },
  "language_info": {
   "codemirror_mode": {
    "name": "ipython",
    "version": 3
   },
   "file_extension": ".py",
   "mimetype": "text/x-python",
   "name": "python",
   "nbconvert_exporter": "python",
   "pygments_lexer": "ipython3",
   "version": "3.7.7"
  }
 },
 "nbformat": 4,
 "nbformat_minor": 4
}
