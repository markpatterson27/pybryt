{
 "cells": [
  {
   "cell_type": "markdown",
   "id": "160ff224-3d22-454d-8f35-0f91e6ad7d5f",
   "metadata": {},
   "source": [
    "# Getting Started\n",
    "\n",
    "This page will be a short guide to setting up a problem with PyBryt, including the process of designing reference implementations based on solutions, create scaffold code for students, and organizing and assessing student implementations. This guide assumes that you have already [installed PyBryt](installation.rst).\n",
    "\n",
    "In this example, suppose that you want students to write a function that performs matrix exponentiation on nested Python lists. You will provide students with a matrix multiplication function that uses [Strassen's algorithm](https://en.wikipedia.org/wiki/Strassen_algorithm) for multipling matrices, and it will be their objective to use that matrix multiplication function to implement the logic for computing matrix powers."
   ]
  },
  {
   "cell_type": "code",
   "execution_count": 32,
   "id": "86bd1c5c-7855-4b01-be6f-0f254206837e",
   "metadata": {},
   "outputs": [],
   "source": [
    "import hashlib\n",
    "import json\n",
    "import numpy as np\n",
    "import pybryt\n",
    "from copy import deepcopy\n",
    "from pprint import pprint\n",
    "from strassen import matmul  # the matrix multiplication function"
   ]
  },
  {
   "cell_type": "markdown",
   "id": "d85733cc-ecd9-4580-a197-e807785bec80",
   "metadata": {},
   "source": [
    "## Step 1: Writing Solutions\n",
    "\n",
    "Let's first consider the possible solutions to this problem. The naive solution would be to iteratively or recursively multiply the matrix with itself the requisite number of times:"
   ]
  },
  {
   "cell_type": "code",
   "execution_count": 13,
   "id": "5684eec2-d8a5-4eb8-9f32-329937e67b45",
   "metadata": {},
   "outputs": [],
   "source": [
    "diag = lambda x, n: [[x if i == j else 0 for i in range(n)] for j in range(n)]\n",
    "\n",
    "def matpow_naive(A, p):\n",
    "    \"\"\"\n",
    "    Raise a matrix to a non-negative power.\n",
    "\n",
    "    Parameters\n",
    "    ----------\n",
    "    A : list[list[int]]\n",
    "        the matrix\n",
    "    p : int\n",
    "        the power\n",
    "\n",
    "    Returns\n",
    "    -------\n",
    "    list[list[int]]\n",
    "        the exponentiated matrix\n",
    "    \"\"\"\n",
    "    if p == 0:\n",
    "        return diag(1, len(A))\n",
    "    B = deepcopy(A)\n",
    "    for i in range(p - 1):\n",
    "        B = matmul(B, A)\n",
    "    return B"
   ]
  },
  {
   "cell_type": "markdown",
   "id": "e748d889-5632-4ba7-bb0f-2c6e8ca639ca",
   "metadata": {},
   "source": [
    "However, there is more than one way to implement matrix exponentiation; a faster divide-and-conquer algorithm that can be used to perform matrix exponentiation in logarithmic time:"
   ]
  },
  {
   "cell_type": "code",
   "execution_count": 14,
   "id": "a646cb66-d14b-4951-b48d-64006b7ae056",
   "metadata": {},
   "outputs": [],
   "source": [
    "def matpow_dac(A, p):\n",
    "    \"\"\"\n",
    "    Raise a matrix to a non-negative power.\n",
    "\n",
    "    Parameters\n",
    "    ----------\n",
    "    A : list[list[int]]\n",
    "        the matrix\n",
    "    p : int\n",
    "        the power\n",
    "\n",
    "    Returns\n",
    "    -------\n",
    "    list[list[int]]\n",
    "        the exponentiated matrix\n",
    "    \"\"\"\n",
    "    if p == 0:\n",
    "        return diag(1, len(A))\n",
    "    elif p == 1:\n",
    "        return A\n",
    "\n",
    "    P = matpow_dac(A, p // 2)    \n",
    "    if p % 2 == 0:\n",
    "        return matmul(P, P)\n",
    "    else:\n",
    "        return matmul(A, matmul(P, P))"
   ]
  },
  {
   "cell_type": "markdown",
   "id": "993f5545-485f-4178-b3d1-de32ea1b1365",
   "metadata": {},
   "source": [
    "## Step 2: Testing Implementations\n",
    "\n",
    "Now that we have a couple of solutions, we need a way to test them so that PyBryt can generate the annotations. To create testing data, we'll use Python's built-in `random` library. The function `generate_rand_matrix` defined below creates a square matrix populated with random integers given the size of the matrix `n` and an RNG seed `seed`."
   ]
  },
  {
   "cell_type": "code",
   "execution_count": 15,
   "id": "c3fe9f24-3c7e-4d6c-906f-de4f727d1b9b",
   "metadata": {},
   "outputs": [],
   "source": [
    "import random\n",
    "\n",
    "def generate_rand_matrix(n, seed, dmin=-100, dmax=100):\n",
    "    \"\"\"\n",
    "    Generate a square matrix populated with random data.\n",
    "\n",
    "    Parameters\n",
    "    ----------\n",
    "    n    : int\n",
    "        the size of the matrix\n",
    "    seed : int\n",
    "        a seed to use for the RNG\n",
    "    dmin : int\n",
    "        the minimum value to allow when generating data\n",
    "    dmax : int\n",
    "        the maximum value to allow when generating data\n",
    "\n",
    "    Returns\n",
    "    -------\n",
    "    list[list[int]]\n",
    "        the matrix\n",
    "    \"\"\"\n",
    "    rng = random.Random(seed)\n",
    "    return [[rng.randrange(dmin, dmax) for _ in range(n)] for _ in range(n)]"
   ]
  },
  {
   "cell_type": "markdown",
   "id": "2ddd4dfd-ee47-4642-9b8c-3b8f7e1f331b",
   "metadata": {},
   "source": [
    "To test the matrix power functions, we'll compare the matrices returned by the functions on some randomly-generated matrices to the matrices that NumPy returns. The function `test_matpow` below implements this logic, and also checks some simple corner cases; it raises an `AssertionError` if any of the tests fail."
   ]
  },
  {
   "cell_type": "code",
   "execution_count": 16,
   "id": "c2ce24fe-9d33-4aba-8702-5aecbbd1fd4f",
   "metadata": {},
   "outputs": [],
   "source": [
    "def test_matpow(matpow):\n",
    "    \"\"\"\n",
    "    Tests an implementation of matrix exponentiation against NumPy.\n",
    "\n",
    "    Parameters\n",
    "    ----------\n",
    "    matpow : callable[[list[list[int]], int], list[list[int]]]\n",
    "        the matrix power function\n",
    "\n",
    "    Raises\n",
    "    ------\n",
    "    AssertionError\n",
    "        if `matpow` returns an incorrect value\n",
    "    \"\"\"\n",
    "    simple_matrix_powers = [\n",
    "        (diag(0, 5), 0),\n",
    "        (diag(0, 5), 2),\n",
    "        (diag(1, 5), 2),\n",
    "    ]\n",
    "    for args in simple_matrix_powers:\n",
    "        mat_pow = matpow(*args)\n",
    "        assert np.allclose(mat_pow, np.linalg.matrix_power(*args))\n",
    "\n",
    "    rng = random.Random(42)\n",
    "    for _ in range(5):\n",
    "        n, p = rng.randrange(10, 100), rng.randrange(10)\n",
    "        mat = generate_rand_matrix(n, n, dmin=-10, dmax=10)\n",
    "        mat_pow = matpow(mat, p)\n",
    "        assert np.allclose(\n",
    "            mat_pow, np.linalg.matrix_power(np.array(mat, dtype=\"int64\"), p))"
   ]
  },
  {
   "cell_type": "markdown",
   "id": "e46e486a-7e95-4048-9319-6e5813a77c29",
   "metadata": {},
   "source": [
    "Now that we have a way to test our solutions, let's do so:"
   ]
  },
  {
   "cell_type": "code",
   "execution_count": 17,
   "id": "4fb24907-4fcd-41e0-888a-5f017da1944c",
   "metadata": {},
   "outputs": [],
   "source": [
    "test_matpow(matpow_naive)\n",
    "test_matpow(matpow_dac)"
   ]
  },
  {
   "cell_type": "markdown",
   "id": "05befec1-c15e-47fc-bd1a-66d157263a92",
   "metadata": {},
   "source": [
    "## Step 3: Annotating Solutions\n",
    "\n",
    "Let's now turn our tested solutions into reference implementations. We'll start by annotating the naive solution. In the annotated version below, we create value annotations for the return values and append them to the `naive_annots` list. We also create a value annotation for each intermediate matrix we encounter in the `for` loop and use `Annotation.before` to create temporal annotations asserting the order in which these matrices should appear in the memory footprint."
   ]
  },
  {
   "cell_type": "code",
   "execution_count": 25,
   "id": "78ece483-d673-4f27-9a01-b59ef9f963bf",
   "metadata": {},
   "outputs": [],
   "source": [
    "naive_annots = []\n",
    "\n",
    "def matpow_naive(A, p):\n",
    "    \"\"\"\n",
    "    Raise a matrix to a non-negative power.\n",
    "\n",
    "    Parameters\n",
    "    ----------\n",
    "    A : list[list[int]]\n",
    "        the matrix\n",
    "    p : int\n",
    "        the power\n",
    "\n",
    "    Returns\n",
    "    -------\n",
    "    list[list[int]]\n",
    "        the exponentiated matrix\n",
    "    \"\"\"\n",
    "    if p == 0:\n",
    "        d = diag(1, len(A))\n",
    "        naive_annots.append(pybryt.Value(\n",
    "            d, \n",
    "            name=\"identity\", \n",
    "            success_message=\"Returned identity when p == 0\",\n",
    "            failure_message=\"Incorrect return value when p == 0\",\n",
    "        ))\n",
    "        return d\n",
    "\n",
    "    B = deepcopy(A)\n",
    "    partial = pybryt.Value(\n",
    "        B, \n",
    "        name=\"partial-product\", \n",
    "        success_message=\"Found correct partial products\",\n",
    "        failure_message=\"Incorrect partial products\",\n",
    "    )\n",
    "\n",
    "    for i in range(p - 1):\n",
    "        B = matmul(B, A)\n",
    "        next_partial = pybryt.Value(\n",
    "            B, \n",
    "            name=\"partial-product\", \n",
    "            success_message=\"Found\",\n",
    "            failure_message=\"Incorrect return value when p == 0\",\n",
    "        )\n",
    "        naive_annots.append(partial.before(next_partial))\n",
    "        partial = next_partial\n",
    "\n",
    "    return B"
   ]
  },
  {
   "cell_type": "markdown",
   "id": "6b0227ed-f69f-472e-a01b-fcfa89be4828",
   "metadata": {},
   "source": [
    "To annotate the divide-and-conquer solution, we again create values checking the return value and all intermediate matrices encountered. However, in this instance, we're using a `Collection` with `enforce_order=True` to gather the annotations for the intermediate matrices and assert their ordering. (This method is slightly easier to conceptualize for the recursive algorithm used here since we can pass the collection to subsequent calls to `matpow_dac`, as opposed to the iterative algorithm used above.)"
   ]
  },
  {
   "cell_type": "code",
   "execution_count": 26,
   "id": "7798c97b-6c0a-4c04-87f2-b2997100ef6e",
   "metadata": {},
   "outputs": [],
   "source": [
    "dac_annots = []\n",
    "\n",
    "def matpow_dac(A, p, collection=None):\n",
    "    \"\"\"\n",
    "    Raise a matrix to a non-negative power.\n",
    "\n",
    "    Parameters\n",
    "    ----------\n",
    "    A          : list[list[int]]\n",
    "        the matrix\n",
    "    p          : int\n",
    "        the power\n",
    "    collection : pybryt.Collection\n",
    "        a collection of annotations to which the intermediate matrices will be added\n",
    "\n",
    "    Returns\n",
    "    -------\n",
    "    list[list[int]]\n",
    "        the exponentiated matrix\n",
    "    \"\"\"\n",
    "    if p == 0:\n",
    "        d = diag(1, len(A))\n",
    "        dac_annots.append(pybryt.Value(\n",
    "            d, \n",
    "            name=\"identity\", \n",
    "            success_message=\"Returned identity when p == 0\",\n",
    "            failure_message=\"Incorrect return value when p == 0\",\n",
    "        ))\n",
    "        return d\n",
    "    \n",
    "    elif p == 1:\n",
    "        ret = A\n",
    "        dac_annots.append(pybryt.Value(\n",
    "            ret, \n",
    "            name=\"1st-power\", \n",
    "            success_message=\"Returned unaltered matrix when p == 1\",\n",
    "            failure_message=\"Incorrect return value when p == 1\",\n",
    "        ))\n",
    "        return ret\n",
    "\n",
    "    should_track = False\n",
    "    if collection is None:\n",
    "        collection = pybryt.Collection(\n",
    "            enforce_order=True,\n",
    "            success_message=\"Found the correct sequence of partial powers\",\n",
    "            failure_message=\"Did not find the correct sequence of partial powers\",\n",
    "        )\n",
    "        dac_annots.append(collection)\n",
    "        should_track = True\n",
    "\n",
    "    P = matpow_dac(A, p // 2, collection=collection)\n",
    "    collection.add(pybryt.Value(P))\n",
    "\n",
    "    if p % 2 == 0:\n",
    "        ret = matmul(P, P)\n",
    "    else:\n",
    "        ret = matmul(A, matmul(P, P))\n",
    "\n",
    "    if should_track:\n",
    "        dac_annots.append(pybryt.Value(\n",
    "            ret, \n",
    "            name=\"return-value\", \n",
    "            success_message=\"Returned correct value\",\n",
    "            failure_message=\"Incorrect return value\",\n",
    "        ))\n",
    "\n",
    "    return ret"
   ]
  },
  {
   "cell_type": "markdown",
   "id": "3c204e13-5a04-4517-9290-a8e79766c780",
   "metadata": {},
   "source": [
    "## Step 4: Populating and Instantiating Reference Implementations\n",
    "\n",
    "With the annotated versions of our solutions ready to go, we're now able to create our annotations. First, we'll need to populate the lists of annotations by running our `test_matpow` function on each of the annotation solutions."
   ]
  },
  {
   "cell_type": "code",
   "execution_count": 28,
   "id": "75ea48c2-ca7a-4bf4-a97c-070f46fd34d1",
   "metadata": {},
   "outputs": [],
   "source": [
    "naive_annots.clear()\n",
    "test_matpow(matpow_naive)\n",
    "\n",
    "dac_annots.clear()\n",
    "test_matpow(matpow_dac)"
   ]
  },
  {
   "cell_type": "markdown",
   "id": "b5a2d444-65be-4600-9bbf-46635130168c",
   "metadata": {},
   "source": [
    "Finally, we should add one more annotation to each reference to forbid the import of NumPy; this ensures that students aren't taking the easy way out in their implementations by using NumPy's matrix power implementation."
   ]
  },
  {
   "cell_type": "code",
   "execution_count": 29,
   "id": "4acb63a4-a69d-4d84-a896-715f70d36f83",
   "metadata": {},
   "outputs": [],
   "source": [
    "naive_annots.append(pybryt.ForbidImport(\"numpy\"))\n",
    "dac_annots.append(pybryt.ForbidImport(\"numpy\"))"
   ]
  },
  {
   "cell_type": "markdown",
   "id": "525028c9-d5db-4751-b902-01aebde772ee",
   "metadata": {},
   "source": [
    "Now, we can insantiate the `ReferenceImplementation` objects:"
   ]
  },
  {
   "cell_type": "code",
   "execution_count": 30,
   "id": "462a52ce-426a-422f-bddd-ddfd71ae01c4",
   "metadata": {},
   "outputs": [],
   "source": [
    "naive_ref = pybryt.ReferenceImplementation(\"naive-matpow\", naive_annots)\n",
    "dac_ref = pybryt.ReferenceImplementation(\"dac-matpow\", dac_annots)"
   ]
  },
  {
   "cell_type": "markdown",
   "id": "6d08cc33-6887-4679-8d49-1e92f1d4bd01",
   "metadata": {},
   "source": [
    "It's at this stage in the game that you'll probably end up switching notebooks to start the next step in the process (writing the student scaffold), so it let's save the references to files so that they can be used again later."
   ]
  },
  {
   "cell_type": "code",
   "execution_count": 31,
   "id": "0bf93afd-1b82-4331-a2eb-a0df3241d791",
   "metadata": {},
   "outputs": [],
   "source": [
    "naive_ref.dump()\n",
    "dac_ref.dump()"
   ]
  },
  {
   "cell_type": "markdown",
   "id": "250f0657-53e8-491f-a8d2-8e228f0b4df9",
   "metadata": {},
   "source": [
    "## Step 5: Writing the Assignment Scaffold\n",
    "\n",
    "Now we need to provide the students with some scaffold code that they can use to implement their own `matpow` function. The first step is to make some modifications to how we're testing the solutions so that we don't set of the annotations that forbid the use of NumPy. To do this, we'll keep the same seed and overall structure of the test, but instead of comparing the function to NumPy's implementation, we'll convert each list to a string and compare the hash of the stringified list against the known hash of the stringified correct list. The cell below generates these hashes and saves them to the file `hashes.json`."
   ]
  },
  {
   "cell_type": "code",
   "execution_count": 50,
   "id": "89847bf3-f320-4dcc-b027-1cd292f857b2",
   "metadata": {},
   "outputs": [],
   "source": [
    "hash_matrix = lambda m: hashlib.sha256(str(m).encode()).hexdigest()\n",
    "\n",
    "def matpow(A, p):\n",
    "    \"\"\"\n",
    "    Raise a matrix to a non-negative power.\n",
    "\n",
    "    Parameters\n",
    "    ----------\n",
    "    A : list[list[int]]\n",
    "        the matrix\n",
    "    p : int\n",
    "        the power\n",
    "\n",
    "    Returns\n",
    "    -------\n",
    "    list[list[int]]\n",
    "        the exponentiated matrix\n",
    "    \"\"\"\n",
    "    if p == 0:\n",
    "        return diag(1, len(A))\n",
    "    elif p == 1:\n",
    "        return A\n",
    "\n",
    "    P = matpow(A, p // 2)    \n",
    "    if p % 2 == 0:\n",
    "        return matmul(P, P)\n",
    "    else:\n",
    "        return matmul(A, matmul(P, P))\n",
    "\n",
    "hashes = []\n",
    "\n",
    "simple_matrix_powers = [\n",
    "    (diag(0, 5), 0),\n",
    "    (diag(0, 5), 2),\n",
    "    (diag(1, 5), 2),\n",
    "]\n",
    "for args in simple_matrix_powers:\n",
    "    mat_pow = matpow(*args)\n",
    "    hashes.append(hash_matrix(mat_pow))\n",
    "\n",
    "rng = random.Random(42)\n",
    "for _ in range(5):\n",
    "    n, p = rng.randrange(10, 100), rng.randrange(10)\n",
    "    mat = generate_rand_matrix(n, n, dmin=-10, dmax=10)\n",
    "    mat_pow = matpow(mat, p)\n",
    "    hashes.append(hash_matrix(mat_pow))\n",
    "\n",
    "with open(\"hashes.json\", \"w+\") as f:\n",
    "    json.dump(hashes, f)"
   ]
  },
  {
   "cell_type": "markdown",
   "id": "9923701c-8926-44ed-b3d4-81baffb70d7b",
   "metadata": {},
   "source": [
    "With the hashes in place, we can rewrite our `test_matpow` function in a way that can be used in the students' notebooks:"
   ]
  },
  {
   "cell_type": "code",
   "execution_count": 51,
   "id": "e2e2cce3-a50c-4a63-ba93-fefce25cf711",
   "metadata": {},
   "outputs": [],
   "source": [
    "def test_matpow(matpow):\n",
    "    \"\"\"\n",
    "    Tests an implementation of matrix exponentiation.\n",
    "\n",
    "    Parameters\n",
    "    ----------\n",
    "    matpow : callable[[list[list[int]], int], list[list[int]]]\n",
    "        the matrix power function\n",
    "\n",
    "    Raises\n",
    "    ------\n",
    "    AssertionError\n",
    "        if `matpow` returns an incorrect value\n",
    "    \"\"\"\n",
    "    with open(\"hashes.json\") as f:\n",
    "        hashes = json.load(f)\n",
    "\n",
    "    hashes = iter(hashes)\n",
    "    simple_matrix_powers = [\n",
    "        (diag(0, 5), 0),\n",
    "        (diag(0, 5), 2),\n",
    "        (diag(1, 5), 2),\n",
    "    ]\n",
    "    for args in simple_matrix_powers:\n",
    "        mat_pow = matpow(*args)\n",
    "        assert hash_matrix(mat_pow) == next(hashes)\n",
    "\n",
    "    rng = random.Random(42)\n",
    "    for _ in range(5):\n",
    "        n, p = rng.randrange(10, 100), rng.randrange(10)\n",
    "        mat = generate_rand_matrix(n, n, dmin=-10, dmax=10)\n",
    "        mat_pow = matpow(mat, p)\n",
    "        assert hash_matrix(mat_pow) == next(hashes)"
   ]
  },
  {
   "cell_type": "markdown",
   "id": "a0461669-b3ac-4a28-b6a7-e4a57b9d6ede",
   "metadata": {},
   "source": [
    "**A very important note:** The function that we use to test the students' implementations of the `matpow` function must call the function on the same inputs as were used to construct the reference implementation, as the one above does thanks to RNG seeding. Other inputs can be added, but all of the inputs used to construct annotations **must be used** in the student implementation. This is because PyBryt's annotations, at their most basic level, work by checking for specific values being used in the students' code, so if some inputs used to construct the reference are not used to test the students' implementations, those values will not be present and the reference will never be satisfied.\n",
    "\n",
    "Let's verify that this works against the `matpow` function from above:"
   ]
  },
  {
   "cell_type": "code",
   "execution_count": 52,
   "id": "b511cf7b-fdc6-4d78-a9ee-d2440b49a0a9",
   "metadata": {},
   "outputs": [],
   "source": [
    "test_matpow(matpow)"
   ]
  },
  {
   "cell_type": "markdown",
   "id": "064becfa-ee2e-4af8-965b-3ca4ae02da09",
   "metadata": {},
   "source": [
    "Finally, all that's left to do is provide the students a place to put their code and connect all the pieces:\n",
    "\n",
    "```python\n",
    "def matpow(A, p):\n",
    "    \"\"\"\n",
    "    Raise a matrix to a non-negative power.\n",
    "\n",
    "    Parameters\n",
    "    ----------\n",
    "    A : list[list[int]]\n",
    "        the matrix\n",
    "    p : int\n",
    "        the power\n",
    "\n",
    "    Returns\n",
    "    -------\n",
    "    list[list[int]]\n",
    "        the exponentiated matrix\n",
    "    \"\"\"\n",
    "    ... # YOUR CODE HERE\n",
    "\n",
    "test_matpow(matpow)\n",
    "```\n",
    "\n",
    "If you want students to be able to run their implementations against the references on their own, you can use the `pybryt.check` context manager:\n",
    "\n",
    "```python\n",
    "with pybryt.check([naive_ref, dac_ref]):\n",
    "    test_matpow(matpow)\n",
    "```"
   ]
  },
  {
   "cell_type": "markdown",
   "id": "a4c87f63-9754-483d-9cd7-09bd2a08b8c7",
   "metadata": {},
   "source": [
    "## Conclusion\n",
    "\n",
    "And that's all there is to it! Continue reading the documentation to learn more about the different kinds of annotations PyBryt supports, how to create and manage student implementations, and much more. If you'd like more examples on how to use PyBryt, take a look at the [intro](https://docs.microsoft.com/learn/modules/introduction-pybryt/) and [advanced](https://docs.microsoft.com/learn/modules/advanced-pybryt/) modules on Microsoft Learn, or the [demos folder](https://github.com/microsoft/pybryt/tree/main/demo/) in the GitHub repo."
   ]
  },
  {
   "cell_type": "markdown",
   "id": "03e7b85b-669e-442b-b490-2f610cde4f25",
   "metadata": {},
   "source": [
    " "
   ]
  }
 ],
 "metadata": {
  "kernelspec": {
   "display_name": "Python 3 (ipykernel)",
   "language": "python",
   "name": "python3"
  },
  "language_info": {
   "codemirror_mode": {
    "name": "ipython",
    "version": 3
   },
   "file_extension": ".py",
   "mimetype": "text/x-python",
   "name": "python",
   "nbconvert_exporter": "python",
   "pygments_lexer": "ipython3",
   "version": "3.7.7"
  }
 },
 "nbformat": 4,
 "nbformat_minor": 5
}
